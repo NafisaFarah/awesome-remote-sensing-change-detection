{
  "cells": [
    {
      "cell_type": "markdown",
      "metadata": {
        "id": "view-in-github",
        "colab_type": "text"
      },
      "source": [
        "<a href=\"https://colab.research.google.com/github/NafisaFarah/awesome-remote-sensing-change-detection/blob/master/Baseline_model.ipynb\" target=\"_parent\"><img src=\"https://colab.research.google.com/assets/colab-badge.svg\" alt=\"Open In Colab\"/></a>"
      ]
    },
    {
      "cell_type": "markdown",
      "metadata": {
        "id": "sfui6NmtNZtE"
      },
      "source": [
        "**Useful resources**\n",
        "\n",
        "- https://github.com/CMU-CREATE-Lab/deep-smoke-machine"
      ]
    },
    {
      "cell_type": "markdown",
      "metadata": {
        "id": "UH7Bo4Pxs_Zi"
      },
      "source": [
        "**Install packages**"
      ]
    },
    {
      "cell_type": "code",
      "execution_count": null,
      "metadata": {
        "colab": {
          "base_uri": "https://localhost:8080/"
        },
        "id": "7vqlQEBtDeJj",
        "outputId": "21e92aa7-a360-4b15-d4f8-14b4ea9ce015"
      },
      "outputs": [
        {
          "output_type": "stream",
          "name": "stdout",
          "text": [
            "fatal: destination path 'deep-smoke-machine' already exists and is not an empty directory.\n"
          ]
        }
      ],
      "source": [
        "!git clone --recursive https://github.com/CMU-CREATE-Lab/deep-smoke-machine.git"
      ]
    },
    {
      "cell_type": "code",
      "source": [
        "%cd deep-smoke-machine/back-end/www/optical_flow/\n",
        "!git submodule update --init --recursive\n",
        "!git checkout master"
      ],
      "metadata": {
        "colab": {
          "base_uri": "https://localhost:8080/"
        },
        "id": "P87kyZcBUhHV",
        "outputId": "fddd9763-94b8-451d-d0ab-500f3b400718"
      },
      "execution_count": null,
      "outputs": [
        {
          "output_type": "stream",
          "name": "stdout",
          "text": [
            "/content/deep-smoke-machine/back-end/www/optical_flow\n",
            "Already on 'master'\n",
            "Your branch is up to date with 'origin/master'.\n"
          ]
        }
      ]
    },
    {
      "cell_type": "markdown",
      "metadata": {
        "id": "ULjJYp9CtDSM"
      },
      "source": [
        "**Import libraries**"
      ]
    },
    {
      "cell_type": "code",
      "execution_count": null,
      "metadata": {
        "id": "V4-lGsuXNKZa"
      },
      "outputs": [],
      "source": [
        "import pandas as pd\n",
        "import numpy as np\n",
        "from google.colab import drive"
      ]
    },
    {
      "cell_type": "code",
      "execution_count": null,
      "metadata": {
        "colab": {
          "base_uri": "https://localhost:8080/"
        },
        "id": "YxqdUqBoDz1d",
        "outputId": "dc8a7598-d3de-485c-c278-7adc26725b31"
      },
      "outputs": [
        {
          "output_type": "stream",
          "name": "stdout",
          "text": [
            "/content/deep-smoke-machine/back-end/www\n"
          ]
        }
      ],
      "source": [
        "%cd /content/deep-smoke-machine/back-end/www\n",
        "from optical_flow.optical_flow import OpticalFlow"
      ]
    },
    {
      "cell_type": "markdown",
      "metadata": {
        "id": "tRqEoaysAHy8"
      },
      "source": [
        "**Mount drive**"
      ]
    },
    {
      "cell_type": "code",
      "execution_count": null,
      "metadata": {
        "colab": {
          "base_uri": "https://localhost:8080/"
        },
        "id": "BgS7DyXmAHGw",
        "outputId": "64383947-b9e8-49a0-908f-89499c462a9d"
      },
      "outputs": [
        {
          "output_type": "stream",
          "name": "stdout",
          "text": [
            "Drive already mounted at /content/drive; to attempt to forcibly remount, call drive.mount(\"/content/drive\", force_remount=True).\n"
          ]
        }
      ],
      "source": [
        "drive.mount('/content/drive')"
      ]
    },
    {
      "cell_type": "markdown",
      "metadata": {
        "id": "22MAXAIytGci"
      },
      "source": [
        "# Import and process data\n",
        "\n",
        "I created a small dataset with this other notebook: https://colab.research.google.com/drive/13vYkrLzpgWmVcYiwkwIrBXLM9PvJOASO#scrollTo=k2kHPgo1_7Se\n",
        "\n",
        "So far the videos are all 3 seconds long."
      ]
    },
    {
      "cell_type": "code",
      "execution_count": null,
      "metadata": {
        "id": "00VsK6Sy_74m"
      },
      "outputs": [],
      "source": [
        "# dataframe\n",
        "df  = pd.read_pickle('/content/drive/MyDrive/AI against Toxic Clouds Shared/05. Subgroup folders/Model builders 2/Notebooks/Mock up data/mockupMetadata')"
      ]
    },
    {
      "cell_type": "markdown",
      "metadata": {
        "id": "t667Xx_-D3iu"
      },
      "source": [
        "**Process video**\n",
        "\n",
        "We extract 12 frames per second, in RGB format with a resolution of 180x180."
      ]
    },
    {
      "cell_type": "code",
      "execution_count": null,
      "metadata": {
        "id": "ORDxttcJEMKK"
      },
      "outputs": [],
      "source": [
        "video_directory = '/content/drive/MyDrive/AI against Toxic Clouds Shared/05. Subgroup folders/Model builders 2/Notebooks/Mock up data/Video/'\n",
        "rgb_directory = '/content/drive/MyDrive/AI against Toxic Clouds Shared/05. Subgroup folders/Model builders 2/Notebooks/Mock up data/RGB/'"
      ]
    },
    {
      "cell_type": "code",
      "execution_count": null,
      "metadata": {
        "id": "-FFbHK-s_8Rf"
      },
      "outputs": [],
      "source": [
        "def processVideo(file_name,\n",
        "                 dir_in ,\n",
        "                 out_dir):\n",
        "    rgb_vid_in_p = dir_in + file_name + '.mp4'\n",
        "    rgb_4d_out_p = out_dir + file_name + '.npy'\n",
        "    flow_type = None # will not process optical flow\n",
        "    op = OpticalFlow(rgb_vid_in_p=rgb_vid_in_p, rgb_4d_out_p=rgb_4d_out_p,\n",
        "                    clip_flow_bound=20, flow_type=flow_type)\n",
        "    op.process()"
      ]
    },
    {
      "cell_type": "code",
      "execution_count": null,
      "metadata": {
        "id": "xSpn-yvTEKYP"
      },
      "outputs": [],
      "source": [
        "df.apply(lambda x: processVideo(x.file_name, dir_in=video_directory, out_dir =rgb_directory), axis = 1)"
      ]
    },
    {
      "cell_type": "code",
      "execution_count": null,
      "metadata": {
        "colab": {
          "base_uri": "https://localhost:8080/"
        },
        "id": "L3KqROFwHb-I",
        "outputId": "41cdb596-f7d8-4c54-eef5-8f65d17c21e6"
      },
      "outputs": [
        {
          "output_type": "execute_result",
          "data": {
            "text/plain": [
              "(36, 180, 180, 3)"
            ]
          },
          "metadata": {},
          "execution_count": 10
        }
      ],
      "source": [
        "np.load('/content/drive/MyDrive/AI against Toxic Clouds Shared/05. Subgroup folders/Model builders 2/Notebooks/Mock up data/RGB/0-0-2018-05-11-6304-944-6807-1447-180-180-11704-1526076945-1526077120.npy').shape"
      ]
    },
    {
      "cell_type": "markdown",
      "source": [
        "# Train, validation, test, split"
      ],
      "metadata": {
        "id": "lt2J7k9UPPnO"
      }
    },
    {
      "cell_type": "code",
      "source": [
        "from sklearn.model_selection import train_test_split"
      ],
      "metadata": {
        "id": "TZ8ToVn4QTqR"
      },
      "execution_count": null,
      "outputs": []
    },
    {
      "cell_type": "code",
      "source": [
        "dfTrain, dfTest = train_test_split(df, test_size=0.33, random_state=42)"
      ],
      "metadata": {
        "id": "Zjt9ATmCPOIU"
      },
      "execution_count": null,
      "outputs": []
    },
    {
      "cell_type": "code",
      "source": [
        "dfTrain, dfValidation = train_test_split(dfTrain, test_size=0.33, random_state=42)"
      ],
      "metadata": {
        "id": "kbFECQUXPOna"
      },
      "execution_count": null,
      "outputs": []
    },
    {
      "cell_type": "code",
      "source": [
        "%cd '/content'\n",
        "dfTrain.reset_index(drop=True).to_json('train.json')\n",
        "dfTest.reset_index(drop=True).to_json('test.json')\n",
        "dfValidation.reset_index(drop=True).to_json('validation.json')"
      ],
      "metadata": {
        "colab": {
          "base_uri": "https://localhost:8080/"
        },
        "id": "rxRMh3I-RHfB",
        "outputId": "c0d04a46-21bc-4101-c4b3-6478d5811b38"
      },
      "execution_count": null,
      "outputs": [
        {
          "output_type": "stream",
          "name": "stdout",
          "text": [
            "/content\n"
          ]
        }
      ]
    },
    {
      "cell_type": "code",
      "source": [
        "pd.read_json('/content/train.json')"
      ],
      "metadata": {
        "colab": {
          "base_uri": "https://localhost:8080/",
          "height": 641
        },
        "id": "EGXYyfmU1npB",
        "outputId": "09b003c1-f3fd-4dd1-8a17-4d5fe7cac7f8"
      },
      "execution_count": null,
      "outputs": [
        {
          "output_type": "execute_result",
          "data": {
            "text/plain": [
              "    camera_id                                          file_name     id  \\\n",
              "0           0  0-1-2019-04-07-6007-928-6509-1430-180-180-9254...  89515   \n",
              "1           0  0-1-2018-06-11-6007-1008-6509-1510-180-180-523...    354   \n",
              "2           0  0-8-2018-11-10-3012-1045-3515-1548-180-180-429...  50110   \n",
              "3           0  0-6-2019-03-14-3981-1004-4484-1507-180-180-913...  55478   \n",
              "4           0  0-4-2019-04-01-4897-954-5400-1457-180-180-1122...  81280   \n",
              "..        ...                                                ...    ...   \n",
              "84          0  0-6-2019-02-02-3981-1004-4484-1507-180-180-822...  19225   \n",
              "85          0  0-0-2018-06-11-6304-964-6807-1467-180-180-1394...    297   \n",
              "86          0  0-2-2018-07-07-5648-1004-6150-1506-180-180-598...  35476   \n",
              "87          0  0-10-2019-07-26-2614-1123-3116-1625-180-180-99...  99834   \n",
              "88          0  0-3-2019-01-22-5329-953-5831-1455-180-180-5348...  15798   \n",
              "\n",
              "    label_state  label_state_admin          start_time  \\\n",
              "0            23                 -1 2019-04-07 19:25:00   \n",
              "1            23                 -1 2018-06-11 12:42:20   \n",
              "2            23                 -1 2018-11-10 14:39:15   \n",
              "3            23                 -1 2019-03-14 19:28:05   \n",
              "4            23                 -1 2019-04-01 23:28:30   \n",
              "..          ...                ...                 ...   \n",
              "84           23                 -1 2019-02-02 19:00:30   \n",
              "85           23                 -1 2018-06-12 00:50:20   \n",
              "86           23                 -1 2018-07-07 15:20:35   \n",
              "87           19                 -1 2019-07-26 20:49:35   \n",
              "88           23                 -1 2019-01-22 14:45:20   \n",
              "\n",
              "                                             url_part  \\\n",
              "0   2019-04-07/0-1/0-1-2019-04-07-6007-928-6509-14...   \n",
              "1   2018-06-11/0-1/0-1-2018-06-11-6007-1008-6509-1...   \n",
              "2   2018-11-10/0-8/0-8-2018-11-10-3012-1045-3515-1...   \n",
              "3   2019-03-14/0-6/0-6-2019-03-14-3981-1004-4484-1...   \n",
              "4   2019-04-01/0-4/0-4-2019-04-01-4897-954-5400-14...   \n",
              "..                                                ...   \n",
              "84  2019-02-02/0-6/0-6-2019-02-02-3981-1004-4484-1...   \n",
              "85  2018-06-11/0-0/0-0-2018-06-11-6304-964-6807-14...   \n",
              "86  2018-07-07/0-2/0-2-2018-07-07-5648-1004-6150-1...   \n",
              "87  2019-07-26/0-10/0-10-2019-07-26-2614-1123-3116...   \n",
              "88  2019-01-22/0-3/0-3-2019-01-22-5329-953-5831-14...   \n",
              "\n",
              "                                   url_root  view_id  \n",
              "0   https://smoke.createlab.org/videos/180/        1  \n",
              "1   https://smoke.createlab.org/videos/180/        1  \n",
              "2   https://smoke.createlab.org/videos/180/        8  \n",
              "3   https://smoke.createlab.org/videos/180/        6  \n",
              "4   https://smoke.createlab.org/videos/180/        4  \n",
              "..                                      ...      ...  \n",
              "84  https://smoke.createlab.org/videos/180/        6  \n",
              "85  https://smoke.createlab.org/videos/180/        0  \n",
              "86  https://smoke.createlab.org/videos/180/        2  \n",
              "87  https://smoke.createlab.org/videos/180/       10  \n",
              "88  https://smoke.createlab.org/videos/180/        3  \n",
              "\n",
              "[89 rows x 9 columns]"
            ],
            "text/html": [
              "\n",
              "\n",
              "  <div id=\"df-28db9c00-fbd3-4e11-be01-4f6de4f5e335\">\n",
              "    <div class=\"colab-df-container\">\n",
              "      <div>\n",
              "<style scoped>\n",
              "    .dataframe tbody tr th:only-of-type {\n",
              "        vertical-align: middle;\n",
              "    }\n",
              "\n",
              "    .dataframe tbody tr th {\n",
              "        vertical-align: top;\n",
              "    }\n",
              "\n",
              "    .dataframe thead th {\n",
              "        text-align: right;\n",
              "    }\n",
              "</style>\n",
              "<table border=\"1\" class=\"dataframe\">\n",
              "  <thead>\n",
              "    <tr style=\"text-align: right;\">\n",
              "      <th></th>\n",
              "      <th>camera_id</th>\n",
              "      <th>file_name</th>\n",
              "      <th>id</th>\n",
              "      <th>label_state</th>\n",
              "      <th>label_state_admin</th>\n",
              "      <th>start_time</th>\n",
              "      <th>url_part</th>\n",
              "      <th>url_root</th>\n",
              "      <th>view_id</th>\n",
              "    </tr>\n",
              "  </thead>\n",
              "  <tbody>\n",
              "    <tr>\n",
              "      <th>0</th>\n",
              "      <td>0</td>\n",
              "      <td>0-1-2019-04-07-6007-928-6509-1430-180-180-9254...</td>\n",
              "      <td>89515</td>\n",
              "      <td>23</td>\n",
              "      <td>-1</td>\n",
              "      <td>2019-04-07 19:25:00</td>\n",
              "      <td>2019-04-07/0-1/0-1-2019-04-07-6007-928-6509-14...</td>\n",
              "      <td>https://smoke.createlab.org/videos/180/</td>\n",
              "      <td>1</td>\n",
              "    </tr>\n",
              "    <tr>\n",
              "      <th>1</th>\n",
              "      <td>0</td>\n",
              "      <td>0-1-2018-06-11-6007-1008-6509-1510-180-180-523...</td>\n",
              "      <td>354</td>\n",
              "      <td>23</td>\n",
              "      <td>-1</td>\n",
              "      <td>2018-06-11 12:42:20</td>\n",
              "      <td>2018-06-11/0-1/0-1-2018-06-11-6007-1008-6509-1...</td>\n",
              "      <td>https://smoke.createlab.org/videos/180/</td>\n",
              "      <td>1</td>\n",
              "    </tr>\n",
              "    <tr>\n",
              "      <th>2</th>\n",
              "      <td>0</td>\n",
              "      <td>0-8-2018-11-10-3012-1045-3515-1548-180-180-429...</td>\n",
              "      <td>50110</td>\n",
              "      <td>23</td>\n",
              "      <td>-1</td>\n",
              "      <td>2018-11-10 14:39:15</td>\n",
              "      <td>2018-11-10/0-8/0-8-2018-11-10-3012-1045-3515-1...</td>\n",
              "      <td>https://smoke.createlab.org/videos/180/</td>\n",
              "      <td>8</td>\n",
              "    </tr>\n",
              "    <tr>\n",
              "      <th>3</th>\n",
              "      <td>0</td>\n",
              "      <td>0-6-2019-03-14-3981-1004-4484-1507-180-180-913...</td>\n",
              "      <td>55478</td>\n",
              "      <td>23</td>\n",
              "      <td>-1</td>\n",
              "      <td>2019-03-14 19:28:05</td>\n",
              "      <td>2019-03-14/0-6/0-6-2019-03-14-3981-1004-4484-1...</td>\n",
              "      <td>https://smoke.createlab.org/videos/180/</td>\n",
              "      <td>6</td>\n",
              "    </tr>\n",
              "    <tr>\n",
              "      <th>4</th>\n",
              "      <td>0</td>\n",
              "      <td>0-4-2019-04-01-4897-954-5400-1457-180-180-1122...</td>\n",
              "      <td>81280</td>\n",
              "      <td>23</td>\n",
              "      <td>-1</td>\n",
              "      <td>2019-04-01 23:28:30</td>\n",
              "      <td>2019-04-01/0-4/0-4-2019-04-01-4897-954-5400-14...</td>\n",
              "      <td>https://smoke.createlab.org/videos/180/</td>\n",
              "      <td>4</td>\n",
              "    </tr>\n",
              "    <tr>\n",
              "      <th>...</th>\n",
              "      <td>...</td>\n",
              "      <td>...</td>\n",
              "      <td>...</td>\n",
              "      <td>...</td>\n",
              "      <td>...</td>\n",
              "      <td>...</td>\n",
              "      <td>...</td>\n",
              "      <td>...</td>\n",
              "      <td>...</td>\n",
              "    </tr>\n",
              "    <tr>\n",
              "      <th>84</th>\n",
              "      <td>0</td>\n",
              "      <td>0-6-2019-02-02-3981-1004-4484-1507-180-180-822...</td>\n",
              "      <td>19225</td>\n",
              "      <td>23</td>\n",
              "      <td>-1</td>\n",
              "      <td>2019-02-02 19:00:30</td>\n",
              "      <td>2019-02-02/0-6/0-6-2019-02-02-3981-1004-4484-1...</td>\n",
              "      <td>https://smoke.createlab.org/videos/180/</td>\n",
              "      <td>6</td>\n",
              "    </tr>\n",
              "    <tr>\n",
              "      <th>85</th>\n",
              "      <td>0</td>\n",
              "      <td>0-0-2018-06-11-6304-964-6807-1467-180-180-1394...</td>\n",
              "      <td>297</td>\n",
              "      <td>23</td>\n",
              "      <td>-1</td>\n",
              "      <td>2018-06-12 00:50:20</td>\n",
              "      <td>2018-06-11/0-0/0-0-2018-06-11-6304-964-6807-14...</td>\n",
              "      <td>https://smoke.createlab.org/videos/180/</td>\n",
              "      <td>0</td>\n",
              "    </tr>\n",
              "    <tr>\n",
              "      <th>86</th>\n",
              "      <td>0</td>\n",
              "      <td>0-2-2018-07-07-5648-1004-6150-1506-180-180-598...</td>\n",
              "      <td>35476</td>\n",
              "      <td>23</td>\n",
              "      <td>-1</td>\n",
              "      <td>2018-07-07 15:20:35</td>\n",
              "      <td>2018-07-07/0-2/0-2-2018-07-07-5648-1004-6150-1...</td>\n",
              "      <td>https://smoke.createlab.org/videos/180/</td>\n",
              "      <td>2</td>\n",
              "    </tr>\n",
              "    <tr>\n",
              "      <th>87</th>\n",
              "      <td>0</td>\n",
              "      <td>0-10-2019-07-26-2614-1123-3116-1625-180-180-99...</td>\n",
              "      <td>99834</td>\n",
              "      <td>19</td>\n",
              "      <td>-1</td>\n",
              "      <td>2019-07-26 20:49:35</td>\n",
              "      <td>2019-07-26/0-10/0-10-2019-07-26-2614-1123-3116...</td>\n",
              "      <td>https://smoke.createlab.org/videos/180/</td>\n",
              "      <td>10</td>\n",
              "    </tr>\n",
              "    <tr>\n",
              "      <th>88</th>\n",
              "      <td>0</td>\n",
              "      <td>0-3-2019-01-22-5329-953-5831-1455-180-180-5348...</td>\n",
              "      <td>15798</td>\n",
              "      <td>23</td>\n",
              "      <td>-1</td>\n",
              "      <td>2019-01-22 14:45:20</td>\n",
              "      <td>2019-01-22/0-3/0-3-2019-01-22-5329-953-5831-14...</td>\n",
              "      <td>https://smoke.createlab.org/videos/180/</td>\n",
              "      <td>3</td>\n",
              "    </tr>\n",
              "  </tbody>\n",
              "</table>\n",
              "<p>89 rows × 9 columns</p>\n",
              "</div>\n",
              "      <button class=\"colab-df-convert\" onclick=\"convertToInteractive('df-28db9c00-fbd3-4e11-be01-4f6de4f5e335')\"\n",
              "              title=\"Convert this dataframe to an interactive table.\"\n",
              "              style=\"display:none;\">\n",
              "\n",
              "  <svg xmlns=\"http://www.w3.org/2000/svg\" height=\"24px\"viewBox=\"0 0 24 24\"\n",
              "       width=\"24px\">\n",
              "    <path d=\"M0 0h24v24H0V0z\" fill=\"none\"/>\n",
              "    <path d=\"M18.56 5.44l.94 2.06.94-2.06 2.06-.94-2.06-.94-.94-2.06-.94 2.06-2.06.94zm-11 1L8.5 8.5l.94-2.06 2.06-.94-2.06-.94L8.5 2.5l-.94 2.06-2.06.94zm10 10l.94 2.06.94-2.06 2.06-.94-2.06-.94-.94-2.06-.94 2.06-2.06.94z\"/><path d=\"M17.41 7.96l-1.37-1.37c-.4-.4-.92-.59-1.43-.59-.52 0-1.04.2-1.43.59L10.3 9.45l-7.72 7.72c-.78.78-.78 2.05 0 2.83L4 21.41c.39.39.9.59 1.41.59.51 0 1.02-.2 1.41-.59l7.78-7.78 2.81-2.81c.8-.78.8-2.07 0-2.86zM5.41 20L4 18.59l7.72-7.72 1.47 1.35L5.41 20z\"/>\n",
              "  </svg>\n",
              "      </button>\n",
              "\n",
              "\n",
              "\n",
              "    <div id=\"df-c1e4b5eb-a71e-4f6f-aaab-e52729fc693c\">\n",
              "      <button class=\"colab-df-quickchart\" onclick=\"quickchart('df-c1e4b5eb-a71e-4f6f-aaab-e52729fc693c')\"\n",
              "              title=\"Suggest charts.\"\n",
              "              style=\"display:none;\">\n",
              "\n",
              "<svg xmlns=\"http://www.w3.org/2000/svg\" height=\"24px\"viewBox=\"0 0 24 24\"\n",
              "     width=\"24px\">\n",
              "    <g>\n",
              "        <path d=\"M19 3H5c-1.1 0-2 .9-2 2v14c0 1.1.9 2 2 2h14c1.1 0 2-.9 2-2V5c0-1.1-.9-2-2-2zM9 17H7v-7h2v7zm4 0h-2V7h2v10zm4 0h-2v-4h2v4z\"/>\n",
              "    </g>\n",
              "</svg>\n",
              "      </button>\n",
              "    </div>\n",
              "\n",
              "<style>\n",
              "  .colab-df-quickchart {\n",
              "    background-color: #E8F0FE;\n",
              "    border: none;\n",
              "    border-radius: 50%;\n",
              "    cursor: pointer;\n",
              "    display: none;\n",
              "    fill: #1967D2;\n",
              "    height: 32px;\n",
              "    padding: 0 0 0 0;\n",
              "    width: 32px;\n",
              "  }\n",
              "\n",
              "  .colab-df-quickchart:hover {\n",
              "    background-color: #E2EBFA;\n",
              "    box-shadow: 0px 1px 2px rgba(60, 64, 67, 0.3), 0px 1px 3px 1px rgba(60, 64, 67, 0.15);\n",
              "    fill: #174EA6;\n",
              "  }\n",
              "\n",
              "  [theme=dark] .colab-df-quickchart {\n",
              "    background-color: #3B4455;\n",
              "    fill: #D2E3FC;\n",
              "  }\n",
              "\n",
              "  [theme=dark] .colab-df-quickchart:hover {\n",
              "    background-color: #434B5C;\n",
              "    box-shadow: 0px 1px 3px 1px rgba(0, 0, 0, 0.15);\n",
              "    filter: drop-shadow(0px 1px 2px rgba(0, 0, 0, 0.3));\n",
              "    fill: #FFFFFF;\n",
              "  }\n",
              "</style>\n",
              "\n",
              "    <script>\n",
              "      async function quickchart(key) {\n",
              "        const containerElement = document.querySelector('#' + key);\n",
              "        const charts = await google.colab.kernel.invokeFunction(\n",
              "            'suggestCharts', [key], {});\n",
              "      }\n",
              "    </script>\n",
              "\n",
              "      <script>\n",
              "\n",
              "function displayQuickchartButton(domScope) {\n",
              "  let quickchartButtonEl =\n",
              "    domScope.querySelector('#df-c1e4b5eb-a71e-4f6f-aaab-e52729fc693c button.colab-df-quickchart');\n",
              "  quickchartButtonEl.style.display =\n",
              "    google.colab.kernel.accessAllowed ? 'block' : 'none';\n",
              "}\n",
              "\n",
              "        displayQuickchartButton(document);\n",
              "      </script>\n",
              "      <style>\n",
              "    .colab-df-container {\n",
              "      display:flex;\n",
              "      flex-wrap:wrap;\n",
              "      gap: 12px;\n",
              "    }\n",
              "\n",
              "    .colab-df-convert {\n",
              "      background-color: #E8F0FE;\n",
              "      border: none;\n",
              "      border-radius: 50%;\n",
              "      cursor: pointer;\n",
              "      display: none;\n",
              "      fill: #1967D2;\n",
              "      height: 32px;\n",
              "      padding: 0 0 0 0;\n",
              "      width: 32px;\n",
              "    }\n",
              "\n",
              "    .colab-df-convert:hover {\n",
              "      background-color: #E2EBFA;\n",
              "      box-shadow: 0px 1px 2px rgba(60, 64, 67, 0.3), 0px 1px 3px 1px rgba(60, 64, 67, 0.15);\n",
              "      fill: #174EA6;\n",
              "    }\n",
              "\n",
              "    [theme=dark] .colab-df-convert {\n",
              "      background-color: #3B4455;\n",
              "      fill: #D2E3FC;\n",
              "    }\n",
              "\n",
              "    [theme=dark] .colab-df-convert:hover {\n",
              "      background-color: #434B5C;\n",
              "      box-shadow: 0px 1px 3px 1px rgba(0, 0, 0, 0.15);\n",
              "      filter: drop-shadow(0px 1px 2px rgba(0, 0, 0, 0.3));\n",
              "      fill: #FFFFFF;\n",
              "    }\n",
              "  </style>\n",
              "\n",
              "      <script>\n",
              "        const buttonEl =\n",
              "          document.querySelector('#df-28db9c00-fbd3-4e11-be01-4f6de4f5e335 button.colab-df-convert');\n",
              "        buttonEl.style.display =\n",
              "          google.colab.kernel.accessAllowed ? 'block' : 'none';\n",
              "\n",
              "        async function convertToInteractive(key) {\n",
              "          const element = document.querySelector('#df-28db9c00-fbd3-4e11-be01-4f6de4f5e335');\n",
              "          const dataTable =\n",
              "            await google.colab.kernel.invokeFunction('convertToInteractive',\n",
              "                                                     [key], {});\n",
              "          if (!dataTable) return;\n",
              "\n",
              "          const docLinkHtml = 'Like what you see? Visit the ' +\n",
              "            '<a target=\"_blank\" href=https://colab.research.google.com/notebooks/data_table.ipynb>data table notebook</a>'\n",
              "            + ' to learn more about interactive tables.';\n",
              "          element.innerHTML = '';\n",
              "          dataTable['output_type'] = 'display_data';\n",
              "          await google.colab.output.renderOutput(dataTable, element);\n",
              "          const docLink = document.createElement('div');\n",
              "          docLink.innerHTML = docLinkHtml;\n",
              "          element.appendChild(docLink);\n",
              "        }\n",
              "      </script>\n",
              "    </div>\n",
              "  </div>\n"
            ]
          },
          "metadata": {},
          "execution_count": 23
        }
      ]
    },
    {
      "cell_type": "markdown",
      "metadata": {
        "id": "85d7Y3_v-GHF"
      },
      "source": [
        "# Fine-tune pre-trained model with W&B monitoring"
      ]
    },
    {
      "cell_type": "code",
      "source": [
        "!pip install pillow==6.0.0\n",
        "!pip install torchviz"
      ],
      "metadata": {
        "colab": {
          "base_uri": "https://localhost:8080/"
        },
        "id": "AYXR_MhYLUno",
        "outputId": "c2afbc78-ca30-4fc3-a9de-38b1447a1ae0"
      },
      "execution_count": null,
      "outputs": [
        {
          "output_type": "stream",
          "name": "stdout",
          "text": [
            "Requirement already satisfied: pillow==6.0.0 in /usr/local/lib/python3.10/dist-packages (6.0.0)\n",
            "Requirement already satisfied: torchviz in /usr/local/lib/python3.10/dist-packages (0.0.2)\n",
            "Requirement already satisfied: torch in /usr/local/lib/python3.10/dist-packages (from torchviz) (2.0.1+cu118)\n",
            "Requirement already satisfied: graphviz in /usr/local/lib/python3.10/dist-packages (from torchviz) (0.20.1)\n",
            "Requirement already satisfied: filelock in /usr/local/lib/python3.10/dist-packages (from torch->torchviz) (3.12.2)\n",
            "Requirement already satisfied: typing-extensions in /usr/local/lib/python3.10/dist-packages (from torch->torchviz) (4.7.1)\n",
            "Requirement already satisfied: sympy in /usr/local/lib/python3.10/dist-packages (from torch->torchviz) (1.11.1)\n",
            "Requirement already satisfied: networkx in /usr/local/lib/python3.10/dist-packages (from torch->torchviz) (3.1)\n",
            "Requirement already satisfied: jinja2 in /usr/local/lib/python3.10/dist-packages (from torch->torchviz) (3.1.2)\n",
            "Requirement already satisfied: triton==2.0.0 in /usr/local/lib/python3.10/dist-packages (from torch->torchviz) (2.0.0)\n",
            "Requirement already satisfied: cmake in /usr/local/lib/python3.10/dist-packages (from triton==2.0.0->torch->torchviz) (3.25.2)\n",
            "Requirement already satisfied: lit in /usr/local/lib/python3.10/dist-packages (from triton==2.0.0->torch->torchviz) (16.0.6)\n",
            "Requirement already satisfied: MarkupSafe>=2.0 in /usr/local/lib/python3.10/dist-packages (from jinja2->torch->torchviz) (2.1.3)\n",
            "Requirement already satisfied: mpmath>=0.19 in /usr/local/lib/python3.10/dist-packages (from sympy->torch->torchviz) (1.3.0)\n"
          ]
        }
      ]
    },
    {
      "cell_type": "code",
      "source": [
        "%cd /content/deep-smoke-machine/back-end/www\n",
        "from i3d_learner import I3dLearner"
      ],
      "metadata": {
        "id": "I-1fZojzVWnn",
        "colab": {
          "base_uri": "https://localhost:8080/"
        },
        "outputId": "09927bd2-e783-4cbf-ec05-7890bef08692"
      },
      "execution_count": null,
      "outputs": [
        {
          "output_type": "stream",
          "name": "stdout",
          "text": [
            "/content/deep-smoke-machine/back-end/www\n"
          ]
        }
      ]
    },
    {
      "cell_type": "code",
      "source": [
        "!pip install wandb"
      ],
      "metadata": {
        "colab": {
          "base_uri": "https://localhost:8080/"
        },
        "id": "2hsnI5nDTD30",
        "outputId": "871740e5-95e9-40a1-be32-ff09fe83f4ff"
      },
      "execution_count": null,
      "outputs": [
        {
          "output_type": "stream",
          "name": "stdout",
          "text": [
            "Requirement already satisfied: wandb in /usr/local/lib/python3.10/dist-packages (0.15.8)\n",
            "Requirement already satisfied: Click!=8.0.0,>=7.1 in /usr/local/lib/python3.10/dist-packages (from wandb) (8.1.6)\n",
            "Requirement already satisfied: GitPython!=3.1.29,>=1.0.0 in /usr/local/lib/python3.10/dist-packages (from wandb) (3.1.32)\n",
            "Requirement already satisfied: requests<3,>=2.0.0 in /usr/local/lib/python3.10/dist-packages (from wandb) (2.27.1)\n",
            "Requirement already satisfied: psutil>=5.0.0 in /usr/local/lib/python3.10/dist-packages (from wandb) (5.9.5)\n",
            "Requirement already satisfied: sentry-sdk>=1.0.0 in /usr/local/lib/python3.10/dist-packages (from wandb) (1.29.2)\n",
            "Requirement already satisfied: docker-pycreds>=0.4.0 in /usr/local/lib/python3.10/dist-packages (from wandb) (0.4.0)\n",
            "Requirement already satisfied: PyYAML in /usr/local/lib/python3.10/dist-packages (from wandb) (6.0.1)\n",
            "Requirement already satisfied: pathtools in /usr/local/lib/python3.10/dist-packages (from wandb) (0.1.2)\n",
            "Requirement already satisfied: setproctitle in /usr/local/lib/python3.10/dist-packages (from wandb) (1.3.2)\n",
            "Requirement already satisfied: setuptools in /usr/local/lib/python3.10/dist-packages (from wandb) (67.7.2)\n",
            "Requirement already satisfied: appdirs>=1.4.3 in /usr/local/lib/python3.10/dist-packages (from wandb) (1.4.4)\n",
            "Requirement already satisfied: protobuf!=4.21.0,<5,>=3.19.0 in /usr/local/lib/python3.10/dist-packages (from wandb) (3.20.3)\n",
            "Requirement already satisfied: six>=1.4.0 in /usr/local/lib/python3.10/dist-packages (from docker-pycreds>=0.4.0->wandb) (1.16.0)\n",
            "Requirement already satisfied: gitdb<5,>=4.0.1 in /usr/local/lib/python3.10/dist-packages (from GitPython!=3.1.29,>=1.0.0->wandb) (4.0.10)\n",
            "Requirement already satisfied: urllib3<1.27,>=1.21.1 in /usr/local/lib/python3.10/dist-packages (from requests<3,>=2.0.0->wandb) (1.26.16)\n",
            "Requirement already satisfied: certifi>=2017.4.17 in /usr/local/lib/python3.10/dist-packages (from requests<3,>=2.0.0->wandb) (2023.7.22)\n",
            "Requirement already satisfied: charset-normalizer~=2.0.0 in /usr/local/lib/python3.10/dist-packages (from requests<3,>=2.0.0->wandb) (2.0.12)\n",
            "Requirement already satisfied: idna<4,>=2.5 in /usr/local/lib/python3.10/dist-packages (from requests<3,>=2.0.0->wandb) (3.4)\n",
            "Requirement already satisfied: smmap<6,>=3.0.1 in /usr/local/lib/python3.10/dist-packages (from gitdb<5,>=4.0.1->GitPython!=3.1.29,>=1.0.0->wandb) (5.0.0)\n"
          ]
        }
      ]
    },
    {
      "cell_type": "code",
      "source": [
        "!wandb login"
      ],
      "metadata": {
        "colab": {
          "base_uri": "https://localhost:8080/"
        },
        "id": "npde1Y0ITFlU",
        "outputId": "f3eaa852-6910-4825-fa14-0377fd0f7486"
      },
      "execution_count": null,
      "outputs": [
        {
          "output_type": "stream",
          "name": "stdout",
          "text": [
            "\u001b[34m\u001b[1mwandb\u001b[0m: Currently logged in as: \u001b[33mmichelesergiopozzi\u001b[0m (\u001b[33mtoxic-clouds-model-builders-2\u001b[0m). Use \u001b[1m`wandb login --relogin`\u001b[0m to force relogin\n"
          ]
        }
      ]
    },
    {
      "cell_type": "code",
      "source": [
        "import wandb\n",
        "import random"
      ],
      "metadata": {
        "id": "9bgC0Pfyel2q"
      },
      "execution_count": null,
      "outputs": []
    },
    {
      "cell_type": "code",
      "source": [
        "# Import I3D\n",
        "from i3d_learner import I3dLearner"
      ],
      "metadata": {
        "id": "s3osRsczh1h9"
      },
      "execution_count": null,
      "outputs": []
    },
    {
      "cell_type": "code",
      "source": [
        "model_params = {'use_cuda':None, # use cuda or not\n",
        "            'use_tsm':False, # use the Temporal Shift module or not\n",
        "            'use_nl':False, # use the Non-local module or not\n",
        "            'use_tc':True, # use the Timeception module or not\n",
        "            'use_lstm':False, # use LSTM module or not\n",
        "            'freeze_i3d':True, # freeze i3d layers when training Timeception\n",
        "            'batch_size_train':8, # size for each batch for training\n",
        "            'batch_size_test':50, # size for each batch for testing\n",
        "            'batch_size_extract_features':40, # size for each batch for extracting features\n",
        "            'max_steps':100, # total number of steps for training\n",
        "            'num_steps_per_update':2, # gradient accumulation (for large batch size that does not fit into memory)\n",
        "            'init_lr':0.00000000000000000000000000000001, # initial learning rate\n",
        "            'weight_decay':0.000001, # L2 regularization\n",
        "            'momentum':0.9, # SGD parameters\n",
        "            'milestones':[500, 1500], # MultiStepLR parameters\n",
        "            'gamma':0.1, # MultiStepLR parameters\n",
        "            'num_of_action_classes':2, # currently we only have two classes (0 and 1, which means no and yes)\n",
        "            'num_steps_per_check':50, # the number of steps to save a model and log information\n",
        "            'parallel':True, # use nn.DistributedDataParallel or not\n",
        "            'augment':True, # use data augmentation or not\n",
        "            'num_workers':12, # number of workers for the dataloader\n",
        "            'mode':\"rgb\", # can be \"rgb\" or \"flow\" or \"rgbd\"\n",
        "            'p_frame':\"/content/drive/MyDrive/AI against Toxic Clouds Shared/05. Subgroup folders/Model builders 2/Notebooks/Mock up data/RGB/\", # path to load video frames\n",
        "            'code_testing':False # a special flag for testing if the code works\n",
        "                }\n",
        "\n",
        "fit_params = {'p_model':'/content/deep-smoke-machine/back-end/data/pretrained_models/RGB-I3D-S3.pt', # the path to load the pretrained or previously self-trained model\n",
        "            'model_id_suffix':\"baseline-0\", # the suffix appended after the model id\n",
        "            'p_metadata_train':\"/content/train.json\", # metadata path (train)\n",
        "            'p_metadata_validation':\"/content/validation.json\", # metadata path (validation)\n",
        "            'p_metadata_test':\"/content/test.json\", # metadata path (test)\n",
        "            'save_model_path':\"/content/save_model/\", # path to save the models ([model_id] will be replaced)\n",
        "            'save_tensorboard_path':\"/content/tensorboard_path/\", # path to save data ([model_id] will be replaced)\n",
        "            'save_log_path':\"/content/log/train.log\", # path to save log files ([model_id] will be replaced)\n",
        "            'save_metadata_path':\"/content/\" # path to save metadata ([model_id] will be replaced)\n",
        "}"
      ],
      "metadata": {
        "id": "GEvji6Cqemtm"
      },
      "execution_count": null,
      "outputs": []
    },
    {
      "cell_type": "code",
      "source": [
        "model = I3dLearner(**model_params)\n",
        "\n",
        "# Finetune the RGB-TC model from the RGB-I3D model\n",
        "model.fit(**fit_params)\n"
      ],
      "metadata": {
        "colab": {
          "base_uri": "https://localhost:8080/",
          "height": 1000
        },
        "id": "oxSlOQMtn0wC",
        "outputId": "25b0b462-f76a-471e-f97c-82fa77d3264b"
      },
      "execution_count": null,
      "outputs": [
        {
          "output_type": "stream",
          "name": "stderr",
          "text": [
            "INFO:/content/log/train.log0:============================================================\n",
            "INFO:/content/log/train.log0:============================================================\n",
            "INFO:/content/log/train.log0:Use Two-Stream Inflated 3D ConvNet learner\n",
            "INFO:/content/log/train.log0:save_model_path: /content/save_model/\n",
            "INFO:/content/log/train.log0:save_tensorboard_path: /content/tensorboard_path/\n",
            "INFO:/content/log/train.log0:save_log_path: /content/log/train.log0\n",
            "INFO:/content/log/train.log0:p_metadata_train: /content/train.json\n",
            "INFO:/content/log/train.log0:p_metadata_validation: /content/validation.json\n",
            "INFO:/content/log/train.log0:p_metadata_test: /content/test.json\n",
            "INFO:/content/log/train.log0:\n",
            "Parameters:\n",
            "  use_tsm: False\n",
            "  use_nl: False\n",
            "  use_tc: True\n",
            "  use_lstm: False\n",
            "  freeze_i3d: True\n",
            "  batch_size_train: 8\n",
            "  batch_size_test: 50\n",
            "  batch_size_extract_features: 40\n",
            "  max_steps: 100\n",
            "  num_steps_per_update: 2\n",
            "  init_lr: 1e-32\n",
            "  weight_decay: 1e-06\n",
            "  momentum: 0.9\n",
            "  milestones: [500, 1500]\n",
            "  gamma: 0.1\n",
            "  num_of_action_classes: 2\n",
            "  num_steps_per_check: 50\n",
            "  parallel: True\n",
            "  augment: True\n",
            "  num_workers: 12\n",
            "  mode: rgb\n",
            "  p_frame: /content/drive/MyDrive/AI against Toxic Clouds Shared/05. Subgroup folders/Model builders 2/Notebooks/Mock up data/RGB/\n",
            "\n"
          ]
        },
        {
          "output_type": "stream",
          "name": "stdout",
          "text": [
            "============================================================\n",
            "============================================================\n",
            "Use Two-Stream Inflated 3D ConvNet learner\n",
            "save_model_path: /content/save_model/\n",
            "save_tensorboard_path: /content/tensorboard_path/\n",
            "save_log_path: /content/log/train.log0\n",
            "p_metadata_train: /content/train.json\n",
            "p_metadata_validation: /content/validation.json\n",
            "p_metadata_test: /content/test.json\n",
            "\n",
            "Parameters:\n",
            "  use_tsm: False\n",
            "  use_nl: False\n",
            "  use_tc: True\n",
            "  use_lstm: False\n",
            "  freeze_i3d: True\n",
            "  batch_size_train: 8\n",
            "  batch_size_test: 50\n",
            "  batch_size_extract_features: 40\n",
            "  max_steps: 100\n",
            "  num_steps_per_update: 2\n",
            "  init_lr: 1e-32\n",
            "  weight_decay: 1e-06\n",
            "  momentum: 0.9\n",
            "  milestones: [500, 1500]\n",
            "  gamma: 0.1\n",
            "  num_of_action_classes: 2\n",
            "  num_steps_per_check: 50\n",
            "  parallel: True\n",
            "  augment: True\n",
            "  num_workers: 12\n",
            "  mode: rgb\n",
            "  p_frame: /content/drive/MyDrive/AI against Toxic Clouds Shared/05. Subgroup folders/Model builders 2/Notebooks/Mock up data/RGB/\n",
            "\n",
            "Initialize the I3D+Timeception model...\n",
            "num_tc_layers: 1\n",
            "freeze_i3d: True\n",
            "Input size:\n",
            "\t torch.Size([1, 3, 36, 224, 224])\n",
            "Freeze I3D model\n"
          ]
        },
        {
          "output_type": "stream",
          "name": "stderr",
          "text": [
            "INFO:/content/log/train.log0:Load model weights from /content/deep-smoke-machine/back-end/data/pretrained_models/RGB-I3D-S3.pt\n"
          ]
        },
        {
          "output_type": "stream",
          "name": "stdout",
          "text": [
            "I3D model output size:\n",
            "\t torch.Size([1, 1024, 5, 7, 7])\n",
            "Timeception model output size:\n",
            "\t torch.Size([1, 1280, 2, 7, 7])\n",
            "Final layer output size:\n",
            "\t torch.Size([1, 400, 1])\n",
            "Load model weights from /content/deep-smoke-machine/back-end/data/pretrained_models/RGB-I3D-S3.pt\n"
          ]
        },
        {
          "output_type": "stream",
          "name": "stderr",
          "text": [
            "INFO:/content/log/train.log0:Weights were from nn.DataParallel or DistributedDataParallel...\n",
            "INFO:/content/log/train.log0:Remove 'module.' prefix from state_dict keys...\n",
            "INFO:/content/log/train.log0:Load model weights from /content/deep-smoke-machine/back-end/data/pretrained_models/RGB-I3D-S3.pt\n",
            "WARNING:py.warnings:/content/deep-smoke-machine/back-end/www/video_transforms.py:170: UserWarning: Saturation jitter enabled. Will slow down loading immensely.\n",
            "  warnings.warn('Saturation jitter enabled. Will slow down loading immensely.')\n",
            "\n",
            "WARNING:py.warnings:/content/deep-smoke-machine/back-end/www/video_transforms.py:172: UserWarning: Hue jitter enabled. Will slow down loading immensely.\n",
            "  warnings.warn('Hue jitter enabled. Will slow down loading immensely.')\n",
            "\n",
            "INFO:/content/log/train.log0:Create dataloader for train\n",
            "WARNING:py.warnings:/usr/local/lib/python3.10/dist-packages/torch/utils/data/dataloader.py:560: UserWarning: This DataLoader will create 12 worker processes in total. Our suggested max number of worker in current system is 2, which is smaller than what this DataLoader is going to create. Please be aware that excessive worker creation might get DataLoader running slow or even freeze, lower the worker number to avoid potential slowness/freeze if necessary.\n",
            "  warnings.warn(_create_warning_msg(\n",
            "\n",
            "INFO:/content/log/train.log0:Create dataloader for validation\n"
          ]
        },
        {
          "output_type": "stream",
          "name": "stdout",
          "text": [
            "Weights were from nn.DataParallel or DistributedDataParallel...\n",
            "Remove 'module.' prefix from state_dict keys...\n",
            "Load model weights from /content/deep-smoke-machine/back-end/data/pretrained_models/RGB-I3D-S3.pt\n",
            "Delete logits in the I3D model...\n",
            "Create dataloader for train\n",
            "Create dataloader for validation\n"
          ]
        },
        {
          "output_type": "stream",
          "name": "stderr",
          "text": [
            "INFO:/content/log/train.log0:----------------------------------------\n",
            "INFO:/content/log/train.log0:phase train\n",
            "INFO:/content/log/train.log0:epochs: 1 steps: 0/100\n"
          ]
        },
        {
          "output_type": "stream",
          "name": "stdout",
          "text": [
            "----------------------------------------\n",
            "phase train\n",
            "epochs: 1 steps: 0/100\n"
          ]
        },
        {
          "output_type": "stream",
          "name": "stderr",
          "text": [
            "  0%|          | 0/2 [00:00<?, ?it/s]\n"
          ]
        },
        {
          "output_type": "error",
          "ename": "KeyError",
          "evalue": "ignored",
          "traceback": [
            "\u001b[0;31m---------------------------------------------------------------------------\u001b[0m",
            "\u001b[0;31mKeyError\u001b[0m                                  Traceback (most recent call last)",
            "\u001b[0;32m<ipython-input-22-0c6feeee3f85>\u001b[0m in \u001b[0;36m<cell line: 4>\u001b[0;34m()\u001b[0m\n\u001b[1;32m      2\u001b[0m \u001b[0;34m\u001b[0m\u001b[0m\n\u001b[1;32m      3\u001b[0m \u001b[0;31m# Finetune the RGB-TC model from the RGB-I3D model\u001b[0m\u001b[0;34m\u001b[0m\u001b[0;34m\u001b[0m\u001b[0m\n\u001b[0;32m----> 4\u001b[0;31m \u001b[0mmodel\u001b[0m\u001b[0;34m.\u001b[0m\u001b[0mfit\u001b[0m\u001b[0;34m(\u001b[0m\u001b[0;34m**\u001b[0m\u001b[0mfit_params\u001b[0m\u001b[0;34m)\u001b[0m\u001b[0;34m\u001b[0m\u001b[0;34m\u001b[0m\u001b[0m\n\u001b[0m",
            "\u001b[0;32m/content/deep-smoke-machine/back-end/www/i3d_learner.py\u001b[0m in \u001b[0;36mfit\u001b[0;34m(self, p_model, model_id_suffix, p_metadata_train, p_metadata_validation, p_metadata_test, save_model_path, save_tensorboard_path, save_log_path, save_metadata_path)\u001b[0m\n\u001b[1;32m    311\u001b[0m                         p_metadata_train, p_metadata_validation, p_metadata_test), join=True)\n\u001b[1;32m    312\u001b[0m         \u001b[0;32melse\u001b[0m\u001b[0;34m:\u001b[0m\u001b[0;34m\u001b[0m\u001b[0;34m\u001b[0m\u001b[0m\n\u001b[0;32m--> 313\u001b[0;31m             self.fit_worker(0, 1, p_model, save_model_path, save_tensorboard_path, save_log_path, self.p_frame,\n\u001b[0m\u001b[1;32m    314\u001b[0m                     p_metadata_train, p_metadata_validation, p_metadata_test)\n\u001b[1;32m    315\u001b[0m \u001b[0;34m\u001b[0m\u001b[0m\n",
            "\u001b[0;32m/content/deep-smoke-machine/back-end/www/i3d_learner.py\u001b[0m in \u001b[0;36mfit_worker\u001b[0;34m(self, rank, world_size, p_model, save_model_path, save_tensorboard_path, save_log_path, p_frame, p_metadata_train, p_metadata_validation, p_metadata_test)\u001b[0m\n\u001b[1;32m    390\u001b[0m                 \u001b[0moptimizer\u001b[0m\u001b[0;34m.\u001b[0m\u001b[0mzero_grad\u001b[0m\u001b[0;34m(\u001b[0m\u001b[0;34m)\u001b[0m\u001b[0;34m\u001b[0m\u001b[0;34m\u001b[0m\u001b[0m\n\u001b[1;32m    391\u001b[0m                 \u001b[0;31m# Iterate over batch data\u001b[0m\u001b[0;34m\u001b[0m\u001b[0;34m\u001b[0m\u001b[0m\n\u001b[0;32m--> 392\u001b[0;31m                 \u001b[0;32mfor\u001b[0m \u001b[0md\u001b[0m \u001b[0;32min\u001b[0m \u001b[0mtqdm\u001b[0m\u001b[0;34m.\u001b[0m\u001b[0mtqdm\u001b[0m\u001b[0;34m(\u001b[0m\u001b[0mdataloader\u001b[0m\u001b[0;34m[\u001b[0m\u001b[0mphase\u001b[0m\u001b[0;34m]\u001b[0m\u001b[0;34m)\u001b[0m\u001b[0;34m:\u001b[0m\u001b[0;34m\u001b[0m\u001b[0;34m\u001b[0m\u001b[0m\n\u001b[0m\u001b[1;32m    393\u001b[0m                     \u001b[0;32mif\u001b[0m \u001b[0mself\u001b[0m\u001b[0;34m.\u001b[0m\u001b[0mcode_testing\u001b[0m\u001b[0;34m:\u001b[0m\u001b[0;34m\u001b[0m\u001b[0;34m\u001b[0m\u001b[0m\n\u001b[1;32m    394\u001b[0m                         \u001b[0;32mif\u001b[0m \u001b[0mphase\u001b[0m \u001b[0;34m==\u001b[0m \u001b[0;34m\"train\"\u001b[0m \u001b[0;32mand\u001b[0m \u001b[0msteps\u001b[0m \u001b[0;34m>=\u001b[0m \u001b[0mself\u001b[0m\u001b[0;34m.\u001b[0m\u001b[0mmax_steps\u001b[0m\u001b[0;34m:\u001b[0m \u001b[0;32mbreak\u001b[0m\u001b[0;34m\u001b[0m\u001b[0;34m\u001b[0m\u001b[0m\n",
            "\u001b[0;32m/usr/local/lib/python3.10/dist-packages/tqdm/std.py\u001b[0m in \u001b[0;36m__iter__\u001b[0;34m(self)\u001b[0m\n\u001b[1;32m   1176\u001b[0m \u001b[0;34m\u001b[0m\u001b[0m\n\u001b[1;32m   1177\u001b[0m         \u001b[0;32mtry\u001b[0m\u001b[0;34m:\u001b[0m\u001b[0;34m\u001b[0m\u001b[0;34m\u001b[0m\u001b[0m\n\u001b[0;32m-> 1178\u001b[0;31m             \u001b[0;32mfor\u001b[0m \u001b[0mobj\u001b[0m \u001b[0;32min\u001b[0m \u001b[0miterable\u001b[0m\u001b[0;34m:\u001b[0m\u001b[0;34m\u001b[0m\u001b[0;34m\u001b[0m\u001b[0m\n\u001b[0m\u001b[1;32m   1179\u001b[0m                 \u001b[0;32myield\u001b[0m \u001b[0mobj\u001b[0m\u001b[0;34m\u001b[0m\u001b[0;34m\u001b[0m\u001b[0m\n\u001b[1;32m   1180\u001b[0m                 \u001b[0;31m# Update and possibly print the progressbar.\u001b[0m\u001b[0;34m\u001b[0m\u001b[0;34m\u001b[0m\u001b[0m\n",
            "\u001b[0;32m/usr/local/lib/python3.10/dist-packages/torch/utils/data/dataloader.py\u001b[0m in \u001b[0;36m__next__\u001b[0;34m(self)\u001b[0m\n\u001b[1;32m    631\u001b[0m                 \u001b[0;31m# TODO(https://github.com/pytorch/pytorch/issues/76750)\u001b[0m\u001b[0;34m\u001b[0m\u001b[0;34m\u001b[0m\u001b[0m\n\u001b[1;32m    632\u001b[0m                 \u001b[0mself\u001b[0m\u001b[0;34m.\u001b[0m\u001b[0m_reset\u001b[0m\u001b[0;34m(\u001b[0m\u001b[0;34m)\u001b[0m  \u001b[0;31m# type: ignore[call-arg]\u001b[0m\u001b[0;34m\u001b[0m\u001b[0;34m\u001b[0m\u001b[0m\n\u001b[0;32m--> 633\u001b[0;31m             \u001b[0mdata\u001b[0m \u001b[0;34m=\u001b[0m \u001b[0mself\u001b[0m\u001b[0;34m.\u001b[0m\u001b[0m_next_data\u001b[0m\u001b[0;34m(\u001b[0m\u001b[0;34m)\u001b[0m\u001b[0;34m\u001b[0m\u001b[0;34m\u001b[0m\u001b[0m\n\u001b[0m\u001b[1;32m    634\u001b[0m             \u001b[0mself\u001b[0m\u001b[0;34m.\u001b[0m\u001b[0m_num_yielded\u001b[0m \u001b[0;34m+=\u001b[0m \u001b[0;36m1\u001b[0m\u001b[0;34m\u001b[0m\u001b[0;34m\u001b[0m\u001b[0m\n\u001b[1;32m    635\u001b[0m             \u001b[0;32mif\u001b[0m \u001b[0mself\u001b[0m\u001b[0;34m.\u001b[0m\u001b[0m_dataset_kind\u001b[0m \u001b[0;34m==\u001b[0m \u001b[0m_DatasetKind\u001b[0m\u001b[0;34m.\u001b[0m\u001b[0mIterable\u001b[0m \u001b[0;32mand\u001b[0m\u001b[0;31m \u001b[0m\u001b[0;31m\\\u001b[0m\u001b[0;34m\u001b[0m\u001b[0;34m\u001b[0m\u001b[0m\n",
            "\u001b[0;32m/usr/local/lib/python3.10/dist-packages/torch/utils/data/dataloader.py\u001b[0m in \u001b[0;36m_next_data\u001b[0;34m(self)\u001b[0m\n\u001b[1;32m   1343\u001b[0m             \u001b[0;32melse\u001b[0m\u001b[0;34m:\u001b[0m\u001b[0;34m\u001b[0m\u001b[0;34m\u001b[0m\u001b[0m\n\u001b[1;32m   1344\u001b[0m                 \u001b[0;32mdel\u001b[0m \u001b[0mself\u001b[0m\u001b[0;34m.\u001b[0m\u001b[0m_task_info\u001b[0m\u001b[0;34m[\u001b[0m\u001b[0midx\u001b[0m\u001b[0;34m]\u001b[0m\u001b[0;34m\u001b[0m\u001b[0;34m\u001b[0m\u001b[0m\n\u001b[0;32m-> 1345\u001b[0;31m                 \u001b[0;32mreturn\u001b[0m \u001b[0mself\u001b[0m\u001b[0;34m.\u001b[0m\u001b[0m_process_data\u001b[0m\u001b[0;34m(\u001b[0m\u001b[0mdata\u001b[0m\u001b[0;34m)\u001b[0m\u001b[0;34m\u001b[0m\u001b[0;34m\u001b[0m\u001b[0m\n\u001b[0m\u001b[1;32m   1346\u001b[0m \u001b[0;34m\u001b[0m\u001b[0m\n\u001b[1;32m   1347\u001b[0m     \u001b[0;32mdef\u001b[0m \u001b[0m_try_put_index\u001b[0m\u001b[0;34m(\u001b[0m\u001b[0mself\u001b[0m\u001b[0;34m)\u001b[0m\u001b[0;34m:\u001b[0m\u001b[0;34m\u001b[0m\u001b[0;34m\u001b[0m\u001b[0m\n",
            "\u001b[0;32m/usr/local/lib/python3.10/dist-packages/torch/utils/data/dataloader.py\u001b[0m in \u001b[0;36m_process_data\u001b[0;34m(self, data)\u001b[0m\n\u001b[1;32m   1369\u001b[0m         \u001b[0mself\u001b[0m\u001b[0;34m.\u001b[0m\u001b[0m_try_put_index\u001b[0m\u001b[0;34m(\u001b[0m\u001b[0;34m)\u001b[0m\u001b[0;34m\u001b[0m\u001b[0;34m\u001b[0m\u001b[0m\n\u001b[1;32m   1370\u001b[0m         \u001b[0;32mif\u001b[0m \u001b[0misinstance\u001b[0m\u001b[0;34m(\u001b[0m\u001b[0mdata\u001b[0m\u001b[0;34m,\u001b[0m \u001b[0mExceptionWrapper\u001b[0m\u001b[0;34m)\u001b[0m\u001b[0;34m:\u001b[0m\u001b[0;34m\u001b[0m\u001b[0;34m\u001b[0m\u001b[0m\n\u001b[0;32m-> 1371\u001b[0;31m             \u001b[0mdata\u001b[0m\u001b[0;34m.\u001b[0m\u001b[0mreraise\u001b[0m\u001b[0;34m(\u001b[0m\u001b[0;34m)\u001b[0m\u001b[0;34m\u001b[0m\u001b[0;34m\u001b[0m\u001b[0m\n\u001b[0m\u001b[1;32m   1372\u001b[0m         \u001b[0;32mreturn\u001b[0m \u001b[0mdata\u001b[0m\u001b[0;34m\u001b[0m\u001b[0;34m\u001b[0m\u001b[0m\n\u001b[1;32m   1373\u001b[0m \u001b[0;34m\u001b[0m\u001b[0m\n",
            "\u001b[0;32m/usr/local/lib/python3.10/dist-packages/torch/_utils.py\u001b[0m in \u001b[0;36mreraise\u001b[0;34m(self)\u001b[0m\n\u001b[1;32m    642\u001b[0m             \u001b[0;31m# instantiate since we don't know how to\u001b[0m\u001b[0;34m\u001b[0m\u001b[0;34m\u001b[0m\u001b[0m\n\u001b[1;32m    643\u001b[0m             \u001b[0;32mraise\u001b[0m \u001b[0mRuntimeError\u001b[0m\u001b[0;34m(\u001b[0m\u001b[0mmsg\u001b[0m\u001b[0;34m)\u001b[0m \u001b[0;32mfrom\u001b[0m \u001b[0;32mNone\u001b[0m\u001b[0;34m\u001b[0m\u001b[0;34m\u001b[0m\u001b[0m\n\u001b[0;32m--> 644\u001b[0;31m         \u001b[0;32mraise\u001b[0m \u001b[0mexception\u001b[0m\u001b[0;34m\u001b[0m\u001b[0;34m\u001b[0m\u001b[0m\n\u001b[0m\u001b[1;32m    645\u001b[0m \u001b[0;34m\u001b[0m\u001b[0m\n\u001b[1;32m    646\u001b[0m \u001b[0;34m\u001b[0m\u001b[0m\n",
            "\u001b[0;31mKeyError\u001b[0m: Caught KeyError in DataLoader worker process 0.\nOriginal Traceback (most recent call last):\n  File \"/usr/local/lib/python3.10/dist-packages/torch/utils/data/_utils/worker.py\", line 308, in _worker_loop\n    data = fetcher.fetch(index)\n  File \"/usr/local/lib/python3.10/dist-packages/torch/utils/data/_utils/fetch.py\", line 51, in fetch\n    data = [self.dataset[idx] for idx in possibly_batched_index]\n  File \"/usr/local/lib/python3.10/dist-packages/torch/utils/data/_utils/fetch.py\", line 51, in <listcomp>\n    data = [self.dataset[idx] for idx in possibly_batched_index]\n  File \"/content/deep-smoke-machine/back-end/www/smoke_video_dataset.py\", line 24, in __getitem__\n    v = self.metadata[idx]\nKeyError: 2\n"
          ]
        }
      ]
    },
    {
      "cell_type": "code",
      "source": [
        "model = I3dLearner(\n",
        "    mode=\"rgb\",\n",
        "    augment=True,\n",
        "    use_tc=True,\n",
        "    freeze_i3d=True,\n",
        "    batch_size_train=8,\n",
        "    milestones=[1000, 2000],\n",
        "    num_steps_per_update=1,\n",
        "    p_frame='/content/drive/MyDrive/AI against Toxic Clouds Shared/05. Subgroup folders/Model builders 2/Notebooks/Mock up data/RGB/')\n",
        "\n",
        "# Finetune the RGB-TC model from the RGB-I3D model\n",
        "model.fit(\n",
        "    p_model='/content/deep-smoke-machine/back-end/data/pretrained_models/RGB-I3D-S3.pt',\n",
        "    model_id_suffix=\"-s3\",\n",
        "    p_metadata_train=\"/content/train.json\",\n",
        "    p_metadata_validation=\"/content/validation.json\",\n",
        "    p_metadata_test=\"/content/test.json\")"
      ],
      "metadata": {
        "colab": {
          "base_uri": "https://localhost:8080/",
          "height": 1000
        },
        "id": "KjHjOGS9xVa-",
        "outputId": "ea86e1c3-cbd3-46ca-a9f2-336316d966ca"
      },
      "execution_count": null,
      "outputs": [
        {
          "output_type": "stream",
          "name": "stderr",
          "text": [
            "INFO:../data/saved_i3d/6b584aa-i3d-rgb-s3/log/train.log0:============================================================\n",
            "INFO:../data/saved_i3d/6b584aa-i3d-rgb-s3/log/train.log0:============================================================\n",
            "INFO:../data/saved_i3d/6b584aa-i3d-rgb-s3/log/train.log0:Use Two-Stream Inflated 3D ConvNet learner\n",
            "INFO:../data/saved_i3d/6b584aa-i3d-rgb-s3/log/train.log0:save_model_path: ../data/saved_i3d/6b584aa-i3d-rgb-s3/model/\n",
            "INFO:../data/saved_i3d/6b584aa-i3d-rgb-s3/log/train.log0:save_tensorboard_path: ../data/saved_i3d/6b584aa-i3d-rgb-s3/run/\n",
            "INFO:../data/saved_i3d/6b584aa-i3d-rgb-s3/log/train.log0:save_log_path: ../data/saved_i3d/6b584aa-i3d-rgb-s3/log/train.log0\n",
            "INFO:../data/saved_i3d/6b584aa-i3d-rgb-s3/log/train.log0:p_metadata_train: /content/train.json\n",
            "INFO:../data/saved_i3d/6b584aa-i3d-rgb-s3/log/train.log0:p_metadata_validation: /content/validation.json\n",
            "INFO:../data/saved_i3d/6b584aa-i3d-rgb-s3/log/train.log0:p_metadata_test: /content/test.json\n",
            "INFO:../data/saved_i3d/6b584aa-i3d-rgb-s3/log/train.log0:\n",
            "Parameters:\n",
            "  use_tsm: False\n",
            "  use_nl: False\n",
            "  use_tc: True\n",
            "  use_lstm: False\n",
            "  freeze_i3d: True\n",
            "  batch_size_train: 8\n",
            "  batch_size_test: 50\n",
            "  batch_size_extract_features: 40\n",
            "  max_steps: 2000\n",
            "  num_steps_per_update: 1\n",
            "  init_lr: 0.1\n",
            "  weight_decay: 1e-06\n",
            "  momentum: 0.9\n",
            "  milestones: [1000, 2000]\n",
            "  gamma: 0.1\n",
            "  num_of_action_classes: 2\n",
            "  num_steps_per_check: 50\n",
            "  parallel: True\n",
            "  augment: True\n",
            "  num_workers: 12\n",
            "  mode: rgb\n",
            "  p_frame: /content/drive/MyDrive/AI against Toxic Clouds Shared/05. Subgroup folders/Model builders 2/Notebooks/Mock up data/RGB/\n",
            "\n"
          ]
        },
        {
          "output_type": "stream",
          "name": "stdout",
          "text": [
            "============================================================\n",
            "============================================================\n",
            "Use Two-Stream Inflated 3D ConvNet learner\n",
            "save_model_path: ../data/saved_i3d/6b584aa-i3d-rgb-s3/model/\n",
            "save_tensorboard_path: ../data/saved_i3d/6b584aa-i3d-rgb-s3/run/\n",
            "save_log_path: ../data/saved_i3d/6b584aa-i3d-rgb-s3/log/train.log0\n",
            "p_metadata_train: /content/train.json\n",
            "p_metadata_validation: /content/validation.json\n",
            "p_metadata_test: /content/test.json\n",
            "\n",
            "Parameters:\n",
            "  use_tsm: False\n",
            "  use_nl: False\n",
            "  use_tc: True\n",
            "  use_lstm: False\n",
            "  freeze_i3d: True\n",
            "  batch_size_train: 8\n",
            "  batch_size_test: 50\n",
            "  batch_size_extract_features: 40\n",
            "  max_steps: 2000\n",
            "  num_steps_per_update: 1\n",
            "  init_lr: 0.1\n",
            "  weight_decay: 1e-06\n",
            "  momentum: 0.9\n",
            "  milestones: [1000, 2000]\n",
            "  gamma: 0.1\n",
            "  num_of_action_classes: 2\n",
            "  num_steps_per_check: 50\n",
            "  parallel: True\n",
            "  augment: True\n",
            "  num_workers: 12\n",
            "  mode: rgb\n",
            "  p_frame: /content/drive/MyDrive/AI against Toxic Clouds Shared/05. Subgroup folders/Model builders 2/Notebooks/Mock up data/RGB/\n",
            "\n",
            "Initialize the I3D+Timeception model...\n",
            "num_tc_layers: 1\n",
            "freeze_i3d: True\n",
            "Input size:\n",
            "\t torch.Size([1, 3, 36, 224, 224])\n",
            "Freeze I3D model\n"
          ]
        },
        {
          "output_type": "stream",
          "name": "stderr",
          "text": [
            "INFO:../data/saved_i3d/6b584aa-i3d-rgb-s3/log/train.log0:Load model weights from /content/deep-smoke-machine/back-end/data/pretrained_models/RGB-I3D-S3.pt\n",
            "INFO:../data/saved_i3d/6b584aa-i3d-rgb-s3/log/train.log0:Weights were from nn.DataParallel or DistributedDataParallel...\n",
            "INFO:../data/saved_i3d/6b584aa-i3d-rgb-s3/log/train.log0:Remove 'module.' prefix from state_dict keys...\n",
            "INFO:../data/saved_i3d/6b584aa-i3d-rgb-s3/log/train.log0:Load model weights from /content/deep-smoke-machine/back-end/data/pretrained_models/RGB-I3D-S3.pt\n"
          ]
        },
        {
          "output_type": "stream",
          "name": "stdout",
          "text": [
            "I3D model output size:\n",
            "\t torch.Size([1, 1024, 5, 7, 7])\n",
            "Timeception model output size:\n",
            "\t torch.Size([1, 1280, 2, 7, 7])\n",
            "Final layer output size:\n",
            "\t torch.Size([1, 400, 1])\n",
            "Load model weights from /content/deep-smoke-machine/back-end/data/pretrained_models/RGB-I3D-S3.pt\n",
            "Weights were from nn.DataParallel or DistributedDataParallel...\n",
            "Remove 'module.' prefix from state_dict keys...\n",
            "Load model weights from /content/deep-smoke-machine/back-end/data/pretrained_models/RGB-I3D-S3.pt\n"
          ]
        },
        {
          "output_type": "stream",
          "name": "stderr",
          "text": [
            "WARNING:py.warnings:/content/deep-smoke-machine/back-end/www/video_transforms.py:170: UserWarning: Saturation jitter enabled. Will slow down loading immensely.\n",
            "  warnings.warn('Saturation jitter enabled. Will slow down loading immensely.')\n",
            "\n",
            "WARNING:py.warnings:/content/deep-smoke-machine/back-end/www/video_transforms.py:172: UserWarning: Hue jitter enabled. Will slow down loading immensely.\n",
            "  warnings.warn('Hue jitter enabled. Will slow down loading immensely.')\n",
            "\n",
            "INFO:../data/saved_i3d/6b584aa-i3d-rgb-s3/log/train.log0:Create dataloader for train\n",
            "WARNING:py.warnings:/usr/local/lib/python3.10/dist-packages/torch/utils/data/dataloader.py:560: UserWarning: This DataLoader will create 12 worker processes in total. Our suggested max number of worker in current system is 2, which is smaller than what this DataLoader is going to create. Please be aware that excessive worker creation might get DataLoader running slow or even freeze, lower the worker number to avoid potential slowness/freeze if necessary.\n",
            "  warnings.warn(_create_warning_msg(\n",
            "\n",
            "INFO:../data/saved_i3d/6b584aa-i3d-rgb-s3/log/train.log0:Create dataloader for validation\n",
            "INFO:../data/saved_i3d/6b584aa-i3d-rgb-s3/log/train.log0:----------------------------------------\n",
            "INFO:../data/saved_i3d/6b584aa-i3d-rgb-s3/log/train.log0:phase train\n",
            "INFO:../data/saved_i3d/6b584aa-i3d-rgb-s3/log/train.log0:epochs: 1 steps: 0/2000\n"
          ]
        },
        {
          "output_type": "stream",
          "name": "stdout",
          "text": [
            "Delete logits in the I3D model...\n",
            "Create dataloader for train\n",
            "Create dataloader for validation\n",
            "----------------------------------------\n",
            "phase train\n",
            "epochs: 1 steps: 0/2000\n"
          ]
        },
        {
          "output_type": "stream",
          "name": "stderr",
          "text": [
            "  0%|          | 0/2 [00:00<?, ?it/s]\n"
          ]
        },
        {
          "output_type": "error",
          "ename": "KeyError",
          "evalue": "ignored",
          "traceback": [
            "\u001b[0;31m---------------------------------------------------------------------------\u001b[0m",
            "\u001b[0;31mKeyError\u001b[0m                                  Traceback (most recent call last)",
            "\u001b[0;32m<ipython-input-24-106d3ad19a46>\u001b[0m in \u001b[0;36m<cell line: 12>\u001b[0;34m()\u001b[0m\n\u001b[1;32m     10\u001b[0m \u001b[0;34m\u001b[0m\u001b[0m\n\u001b[1;32m     11\u001b[0m \u001b[0;31m# Finetune the RGB-TC model from the RGB-I3D model\u001b[0m\u001b[0;34m\u001b[0m\u001b[0;34m\u001b[0m\u001b[0m\n\u001b[0;32m---> 12\u001b[0;31m model.fit(\n\u001b[0m\u001b[1;32m     13\u001b[0m     \u001b[0mp_model\u001b[0m\u001b[0;34m=\u001b[0m\u001b[0;34m'/content/deep-smoke-machine/back-end/data/pretrained_models/RGB-I3D-S3.pt'\u001b[0m\u001b[0;34m,\u001b[0m\u001b[0;34m\u001b[0m\u001b[0;34m\u001b[0m\u001b[0m\n\u001b[1;32m     14\u001b[0m     \u001b[0mmodel_id_suffix\u001b[0m\u001b[0;34m=\u001b[0m\u001b[0;34m\"-s3\"\u001b[0m\u001b[0;34m,\u001b[0m\u001b[0;34m\u001b[0m\u001b[0;34m\u001b[0m\u001b[0m\n",
            "\u001b[0;32m/content/deep-smoke-machine/back-end/www/i3d_learner.py\u001b[0m in \u001b[0;36mfit\u001b[0;34m(self, p_model, model_id_suffix, p_metadata_train, p_metadata_validation, p_metadata_test, save_model_path, save_tensorboard_path, save_log_path, save_metadata_path)\u001b[0m\n\u001b[1;32m    311\u001b[0m                         p_metadata_train, p_metadata_validation, p_metadata_test), join=True)\n\u001b[1;32m    312\u001b[0m         \u001b[0;32melse\u001b[0m\u001b[0;34m:\u001b[0m\u001b[0;34m\u001b[0m\u001b[0;34m\u001b[0m\u001b[0m\n\u001b[0;32m--> 313\u001b[0;31m             self.fit_worker(0, 1, p_model, save_model_path, save_tensorboard_path, save_log_path, self.p_frame,\n\u001b[0m\u001b[1;32m    314\u001b[0m                     p_metadata_train, p_metadata_validation, p_metadata_test)\n\u001b[1;32m    315\u001b[0m \u001b[0;34m\u001b[0m\u001b[0m\n",
            "\u001b[0;32m/content/deep-smoke-machine/back-end/www/i3d_learner.py\u001b[0m in \u001b[0;36mfit_worker\u001b[0;34m(self, rank, world_size, p_model, save_model_path, save_tensorboard_path, save_log_path, p_frame, p_metadata_train, p_metadata_validation, p_metadata_test)\u001b[0m\n\u001b[1;32m    390\u001b[0m                 \u001b[0moptimizer\u001b[0m\u001b[0;34m.\u001b[0m\u001b[0mzero_grad\u001b[0m\u001b[0;34m(\u001b[0m\u001b[0;34m)\u001b[0m\u001b[0;34m\u001b[0m\u001b[0;34m\u001b[0m\u001b[0m\n\u001b[1;32m    391\u001b[0m                 \u001b[0;31m# Iterate over batch data\u001b[0m\u001b[0;34m\u001b[0m\u001b[0;34m\u001b[0m\u001b[0m\n\u001b[0;32m--> 392\u001b[0;31m                 \u001b[0;32mfor\u001b[0m \u001b[0md\u001b[0m \u001b[0;32min\u001b[0m \u001b[0mtqdm\u001b[0m\u001b[0;34m.\u001b[0m\u001b[0mtqdm\u001b[0m\u001b[0;34m(\u001b[0m\u001b[0mdataloader\u001b[0m\u001b[0;34m[\u001b[0m\u001b[0mphase\u001b[0m\u001b[0;34m]\u001b[0m\u001b[0;34m)\u001b[0m\u001b[0;34m:\u001b[0m\u001b[0;34m\u001b[0m\u001b[0;34m\u001b[0m\u001b[0m\n\u001b[0m\u001b[1;32m    393\u001b[0m                     \u001b[0;32mif\u001b[0m \u001b[0mself\u001b[0m\u001b[0;34m.\u001b[0m\u001b[0mcode_testing\u001b[0m\u001b[0;34m:\u001b[0m\u001b[0;34m\u001b[0m\u001b[0;34m\u001b[0m\u001b[0m\n\u001b[1;32m    394\u001b[0m                         \u001b[0;32mif\u001b[0m \u001b[0mphase\u001b[0m \u001b[0;34m==\u001b[0m \u001b[0;34m\"train\"\u001b[0m \u001b[0;32mand\u001b[0m \u001b[0msteps\u001b[0m \u001b[0;34m>=\u001b[0m \u001b[0mself\u001b[0m\u001b[0;34m.\u001b[0m\u001b[0mmax_steps\u001b[0m\u001b[0;34m:\u001b[0m \u001b[0;32mbreak\u001b[0m\u001b[0;34m\u001b[0m\u001b[0;34m\u001b[0m\u001b[0m\n",
            "\u001b[0;32m/usr/local/lib/python3.10/dist-packages/tqdm/std.py\u001b[0m in \u001b[0;36m__iter__\u001b[0;34m(self)\u001b[0m\n\u001b[1;32m   1176\u001b[0m \u001b[0;34m\u001b[0m\u001b[0m\n\u001b[1;32m   1177\u001b[0m         \u001b[0;32mtry\u001b[0m\u001b[0;34m:\u001b[0m\u001b[0;34m\u001b[0m\u001b[0;34m\u001b[0m\u001b[0m\n\u001b[0;32m-> 1178\u001b[0;31m             \u001b[0;32mfor\u001b[0m \u001b[0mobj\u001b[0m \u001b[0;32min\u001b[0m \u001b[0miterable\u001b[0m\u001b[0;34m:\u001b[0m\u001b[0;34m\u001b[0m\u001b[0;34m\u001b[0m\u001b[0m\n\u001b[0m\u001b[1;32m   1179\u001b[0m                 \u001b[0;32myield\u001b[0m \u001b[0mobj\u001b[0m\u001b[0;34m\u001b[0m\u001b[0;34m\u001b[0m\u001b[0m\n\u001b[1;32m   1180\u001b[0m                 \u001b[0;31m# Update and possibly print the progressbar.\u001b[0m\u001b[0;34m\u001b[0m\u001b[0;34m\u001b[0m\u001b[0m\n",
            "\u001b[0;32m/usr/local/lib/python3.10/dist-packages/torch/utils/data/dataloader.py\u001b[0m in \u001b[0;36m__next__\u001b[0;34m(self)\u001b[0m\n\u001b[1;32m    631\u001b[0m                 \u001b[0;31m# TODO(https://github.com/pytorch/pytorch/issues/76750)\u001b[0m\u001b[0;34m\u001b[0m\u001b[0;34m\u001b[0m\u001b[0m\n\u001b[1;32m    632\u001b[0m                 \u001b[0mself\u001b[0m\u001b[0;34m.\u001b[0m\u001b[0m_reset\u001b[0m\u001b[0;34m(\u001b[0m\u001b[0;34m)\u001b[0m  \u001b[0;31m# type: ignore[call-arg]\u001b[0m\u001b[0;34m\u001b[0m\u001b[0;34m\u001b[0m\u001b[0m\n\u001b[0;32m--> 633\u001b[0;31m             \u001b[0mdata\u001b[0m \u001b[0;34m=\u001b[0m \u001b[0mself\u001b[0m\u001b[0;34m.\u001b[0m\u001b[0m_next_data\u001b[0m\u001b[0;34m(\u001b[0m\u001b[0;34m)\u001b[0m\u001b[0;34m\u001b[0m\u001b[0;34m\u001b[0m\u001b[0m\n\u001b[0m\u001b[1;32m    634\u001b[0m             \u001b[0mself\u001b[0m\u001b[0;34m.\u001b[0m\u001b[0m_num_yielded\u001b[0m \u001b[0;34m+=\u001b[0m \u001b[0;36m1\u001b[0m\u001b[0;34m\u001b[0m\u001b[0;34m\u001b[0m\u001b[0m\n\u001b[1;32m    635\u001b[0m             \u001b[0;32mif\u001b[0m \u001b[0mself\u001b[0m\u001b[0;34m.\u001b[0m\u001b[0m_dataset_kind\u001b[0m \u001b[0;34m==\u001b[0m \u001b[0m_DatasetKind\u001b[0m\u001b[0;34m.\u001b[0m\u001b[0mIterable\u001b[0m \u001b[0;32mand\u001b[0m\u001b[0;31m \u001b[0m\u001b[0;31m\\\u001b[0m\u001b[0;34m\u001b[0m\u001b[0;34m\u001b[0m\u001b[0m\n",
            "\u001b[0;32m/usr/local/lib/python3.10/dist-packages/torch/utils/data/dataloader.py\u001b[0m in \u001b[0;36m_next_data\u001b[0;34m(self)\u001b[0m\n\u001b[1;32m   1343\u001b[0m             \u001b[0;32melse\u001b[0m\u001b[0;34m:\u001b[0m\u001b[0;34m\u001b[0m\u001b[0;34m\u001b[0m\u001b[0m\n\u001b[1;32m   1344\u001b[0m                 \u001b[0;32mdel\u001b[0m \u001b[0mself\u001b[0m\u001b[0;34m.\u001b[0m\u001b[0m_task_info\u001b[0m\u001b[0;34m[\u001b[0m\u001b[0midx\u001b[0m\u001b[0;34m]\u001b[0m\u001b[0;34m\u001b[0m\u001b[0;34m\u001b[0m\u001b[0m\n\u001b[0;32m-> 1345\u001b[0;31m                 \u001b[0;32mreturn\u001b[0m \u001b[0mself\u001b[0m\u001b[0;34m.\u001b[0m\u001b[0m_process_data\u001b[0m\u001b[0;34m(\u001b[0m\u001b[0mdata\u001b[0m\u001b[0;34m)\u001b[0m\u001b[0;34m\u001b[0m\u001b[0;34m\u001b[0m\u001b[0m\n\u001b[0m\u001b[1;32m   1346\u001b[0m \u001b[0;34m\u001b[0m\u001b[0m\n\u001b[1;32m   1347\u001b[0m     \u001b[0;32mdef\u001b[0m \u001b[0m_try_put_index\u001b[0m\u001b[0;34m(\u001b[0m\u001b[0mself\u001b[0m\u001b[0;34m)\u001b[0m\u001b[0;34m:\u001b[0m\u001b[0;34m\u001b[0m\u001b[0;34m\u001b[0m\u001b[0m\n",
            "\u001b[0;32m/usr/local/lib/python3.10/dist-packages/torch/utils/data/dataloader.py\u001b[0m in \u001b[0;36m_process_data\u001b[0;34m(self, data)\u001b[0m\n\u001b[1;32m   1369\u001b[0m         \u001b[0mself\u001b[0m\u001b[0;34m.\u001b[0m\u001b[0m_try_put_index\u001b[0m\u001b[0;34m(\u001b[0m\u001b[0;34m)\u001b[0m\u001b[0;34m\u001b[0m\u001b[0;34m\u001b[0m\u001b[0m\n\u001b[1;32m   1370\u001b[0m         \u001b[0;32mif\u001b[0m \u001b[0misinstance\u001b[0m\u001b[0;34m(\u001b[0m\u001b[0mdata\u001b[0m\u001b[0;34m,\u001b[0m \u001b[0mExceptionWrapper\u001b[0m\u001b[0;34m)\u001b[0m\u001b[0;34m:\u001b[0m\u001b[0;34m\u001b[0m\u001b[0;34m\u001b[0m\u001b[0m\n\u001b[0;32m-> 1371\u001b[0;31m             \u001b[0mdata\u001b[0m\u001b[0;34m.\u001b[0m\u001b[0mreraise\u001b[0m\u001b[0;34m(\u001b[0m\u001b[0;34m)\u001b[0m\u001b[0;34m\u001b[0m\u001b[0;34m\u001b[0m\u001b[0m\n\u001b[0m\u001b[1;32m   1372\u001b[0m         \u001b[0;32mreturn\u001b[0m \u001b[0mdata\u001b[0m\u001b[0;34m\u001b[0m\u001b[0;34m\u001b[0m\u001b[0m\n\u001b[1;32m   1373\u001b[0m \u001b[0;34m\u001b[0m\u001b[0m\n",
            "\u001b[0;32m/usr/local/lib/python3.10/dist-packages/torch/_utils.py\u001b[0m in \u001b[0;36mreraise\u001b[0;34m(self)\u001b[0m\n\u001b[1;32m    642\u001b[0m             \u001b[0;31m# instantiate since we don't know how to\u001b[0m\u001b[0;34m\u001b[0m\u001b[0;34m\u001b[0m\u001b[0m\n\u001b[1;32m    643\u001b[0m             \u001b[0;32mraise\u001b[0m \u001b[0mRuntimeError\u001b[0m\u001b[0;34m(\u001b[0m\u001b[0mmsg\u001b[0m\u001b[0;34m)\u001b[0m \u001b[0;32mfrom\u001b[0m \u001b[0;32mNone\u001b[0m\u001b[0;34m\u001b[0m\u001b[0;34m\u001b[0m\u001b[0m\n\u001b[0;32m--> 644\u001b[0;31m         \u001b[0;32mraise\u001b[0m \u001b[0mexception\u001b[0m\u001b[0;34m\u001b[0m\u001b[0;34m\u001b[0m\u001b[0m\n\u001b[0m\u001b[1;32m    645\u001b[0m \u001b[0;34m\u001b[0m\u001b[0m\n\u001b[1;32m    646\u001b[0m \u001b[0;34m\u001b[0m\u001b[0m\n",
            "\u001b[0;31mKeyError\u001b[0m: Caught KeyError in DataLoader worker process 0.\nOriginal Traceback (most recent call last):\n  File \"/usr/local/lib/python3.10/dist-packages/torch/utils/data/_utils/worker.py\", line 308, in _worker_loop\n    data = fetcher.fetch(index)\n  File \"/usr/local/lib/python3.10/dist-packages/torch/utils/data/_utils/fetch.py\", line 51, in fetch\n    data = [self.dataset[idx] for idx in possibly_batched_index]\n  File \"/usr/local/lib/python3.10/dist-packages/torch/utils/data/_utils/fetch.py\", line 51, in <listcomp>\n    data = [self.dataset[idx] for idx in possibly_batched_index]\n  File \"/content/deep-smoke-machine/back-end/www/smoke_video_dataset.py\", line 24, in __getitem__\n    v = self.metadata[idx]\nKeyError: 7\n"
          ]
        }
      ]
    },
    {
      "cell_type": "code",
      "source": [
        "\n",
        "\n",
        "\n",
        "\n",
        "# start a new wandb run to track this script\n",
        "wandb.init(\n",
        "    # set the wandb project where this run will be logged\n",
        "    project=\"baseline-model-I3D\",\n",
        "\n",
        "    # track hyperparameters and run metadata\n",
        "    config={\n",
        "    \"fit_params\": fit_params,\n",
        "    \"model_params\": model_params,\n",
        "    \"data\": \"dummy-dataset\"\n",
        "    }\n",
        ")\n",
        "\n",
        "model = I3dLearner(**model_params)\n",
        "\n",
        "# Finetune the RGB-TC model from the RGB-I3D model\n",
        "model.fit(**fit_params)\n",
        "    # log metrics to wandb\n",
        "    wandb.log({\"acc\": acc, \"loss\": loss})\n",
        "\n",
        "\n",
        "    # log metrics to wandb\n",
        "    wandb.log({\"acc\": acc, \"loss\": loss})\n",
        "\n",
        "# [optional] finish the wandb run, necessary in notebooks\n",
        "wandb.finish()"
      ],
      "metadata": {
        "id": "miCXUR2YTLX7",
        "colab": {
          "base_uri": "https://localhost:8080/",
          "height": 131
        },
        "outputId": "278dfe58-3771-436a-d8ae-54789dca815d"
      },
      "execution_count": null,
      "outputs": [
        {
          "output_type": "error",
          "ename": "SyntaxError",
          "evalue": "ignored",
          "traceback": [
            "\u001b[0;36m  File \u001b[0;32m\"<ipython-input-24-44a2d7daaace>\"\u001b[0;36m, line \u001b[0;32m10\u001b[0m\n\u001b[0;31m    \"data\": \",\u001b[0m\n\u001b[0m            ^\u001b[0m\n\u001b[0;31mSyntaxError\u001b[0m\u001b[0;31m:\u001b[0m unterminated string literal (detected at line 10)\n"
          ]
        }
      ]
    },
    {
      "cell_type": "code",
      "source": [],
      "metadata": {
        "id": "r0HXLGuATtQQ"
      },
      "execution_count": null,
      "outputs": []
    },
    {
      "cell_type": "code",
      "source": [],
      "metadata": {
        "id": "zd4ofwf-P8C0"
      },
      "execution_count": null,
      "outputs": []
    },
    {
      "cell_type": "code",
      "source": [],
      "metadata": {
        "id": "qXkTVK-6P-Cv"
      },
      "execution_count": null,
      "outputs": []
    },
    {
      "cell_type": "markdown",
      "metadata": {
        "id": "TDpQCunEAXtM"
      },
      "source": [
        "## Fine-tuning, monitoring with weight and bias"
      ]
    },
    {
      "cell_type": "code",
      "execution_count": null,
      "metadata": {
        "id": "52RIDTQEAcqC"
      },
      "outputs": [],
      "source": []
    }
  ],
  "metadata": {
    "accelerator": "GPU",
    "colab": {
      "provenance": [],
      "include_colab_link": true
    },
    "kernelspec": {
      "display_name": "Python 3",
      "name": "python3"
    },
    "language_info": {
      "name": "python"
    }
  },
  "nbformat": 4,
  "nbformat_minor": 0
}